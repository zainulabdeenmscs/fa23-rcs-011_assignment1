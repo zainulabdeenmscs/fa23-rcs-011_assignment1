{
 "cells": [
  {
   "cell_type": "markdown",
   "id": "c10a46bb",
   "metadata": {},
   "source": [
    "## Roll No. FA23-RCS-011\n",
    "## Zain Ul Abdeen\n",
    "## Assignment 1 Solution"
   ]
  },
  {
   "cell_type": "markdown",
   "id": "362f6ee6",
   "metadata": {},
   "source": [
    "### Task 1: \n",
    "Lists, Dictionaries, Tuples \n",
    "### 1.1.  Create a list: nums = [3, 5, 7, 8, 12], make another list named ‘cubes’ and append the cubes of the given list ‘nums’ in this list and print it."
   ]
  },
  {
   "cell_type": "code",
   "execution_count": 6,
   "id": "7fca751e",
   "metadata": {},
   "outputs": [
    {
     "name": "stdout",
     "output_type": "stream",
     "text": [
      "[27, 125, 343, 512, 1728]\n"
     ]
    }
   ],
   "source": [
    "# Given list\n",
    "nums = [3, 5, 7, 8, 12]\n",
    "\n",
    "# Creating an empty list to store cubes\n",
    "cubes = []\n",
    "\n",
    "# Appending cubes of the elements in nums to cubes list\n",
    "for num in nums:\n",
    "    cubes.append(num ** 3)\n",
    "\n",
    "# Printing the cubes list\n",
    "print(cubes)"
   ]
  },
  {
   "cell_type": "markdown",
   "id": "a4ee4317",
   "metadata": {},
   "source": [
    "### 1.2.  Create an empty dictionary: dict = {}, add the following data to the dictionary: ‘parrot’: 2, ‘goat’: 4, ‘spider’: 8, ‘crab’: 10 as key value pairs."
   ]
  },
  {
   "cell_type": "code",
   "execution_count": 7,
   "id": "18f7eb0b",
   "metadata": {},
   "outputs": [
    {
     "name": "stdout",
     "output_type": "stream",
     "text": [
      "{'parrot': 2, 'goat': 4, 'spider': 8, 'crab': 10}\n"
     ]
    }
   ],
   "source": [
    "# Creating an empty dictionary\n",
    "my_dict = {}\n",
    "\n",
    "# Adding key-value pairs to the dictionary\n",
    "my_dict['parrot'] = 2\n",
    "my_dict['goat'] = 4\n",
    "my_dict['spider'] = 8\n",
    "my_dict['crab'] = 10\n",
    "\n",
    "# Printing the dictionary\n",
    "print(my_dict)"
   ]
  },
  {
   "cell_type": "markdown",
   "id": "08c789e4",
   "metadata": {},
   "source": [
    "### 1.3.  Use the ‘items’ method to loop over the dictionary (dict) and print the animals and their corresponding legs. Sum the legs of each animal, and print the total at the end."
   ]
  },
  {
   "cell_type": "code",
   "execution_count": 8,
   "id": "1926073f",
   "metadata": {},
   "outputs": [
    {
     "name": "stdout",
     "output_type": "stream",
     "text": [
      "parrot has 2 legs\n",
      "goat has 4 legs\n",
      "spider has 8 legs\n",
      "crab has 10 legs\n",
      "Total number of legs are: 24\n"
     ]
    }
   ],
   "source": [
    "# Initializing a variable to store the total number of legs\n",
    "total_legs = 0\n",
    "\n",
    "# Looping over the dictionary using the items method\n",
    "for animal, legs in my_dict.items():\n",
    "    print(f\"{animal} has {legs} legs\")\n",
    "    total_legs += legs  # Add the legs to the total\n",
    "\n",
    "# Printing the total number of legs\n",
    "print(f\"Total number of legs are: {total_legs}\")"
   ]
  },
  {
   "cell_type": "markdown",
   "id": "3fa3bf50",
   "metadata": {},
   "source": [
    "### 1.4.  Create a tuple: A = (3, 9, 4, [5, 6]), change the value in the list from ‘5’ to ‘8’. "
   ]
  },
  {
   "cell_type": "code",
   "execution_count": 22,
   "id": "bf018c64",
   "metadata": {},
   "outputs": [
    {
     "name": "stdout",
     "output_type": "stream",
     "text": [
      "(3, 9, 4, [8, 6])\n"
     ]
    }
   ],
   "source": [
    "# Creating the tuple\n",
    "A = (3, 9, 4, [5, 6])\n",
    "\n",
    "# Changing the value in the list from 5 to 8\n",
    "A[3][0] = 8\n",
    "\n",
    "# Printing the updated tuple\n",
    "print(A)"
   ]
  },
  {
   "cell_type": "markdown",
   "id": "ede790a8",
   "metadata": {},
   "source": [
    "### 1.5.  Delete the tuple A"
   ]
  },
  {
   "cell_type": "code",
   "execution_count": 23,
   "id": "7e2f3fbd",
   "metadata": {},
   "outputs": [],
   "source": [
    "# Deleting the tuple A\n",
    "del A\n",
    "\n",
    "# If we insert code print (A) it will result in an error showing that tuple A has been deleted\n",
    "# It also returns an error after deletion of tuple A if we re-run this code\n",
    "# So 1.4 solution is run again to create tuple A and then this code to delete it and remove error"
   ]
  },
  {
   "cell_type": "markdown",
   "id": "a1ae137f",
   "metadata": {},
   "source": [
    "### 1.6.  Create another tuple: B = (‘a’, ‘p’, ‘p’, ‘l’, ‘e’), print the number of occurrences of ‘p’ in the tuple. "
   ]
  },
  {
   "cell_type": "code",
   "execution_count": 24,
   "id": "2ea51c8c",
   "metadata": {},
   "outputs": [
    {
     "name": "stdout",
     "output_type": "stream",
     "text": [
      "The letter 'p' occurs 2 times in the tuple.\n"
     ]
    }
   ],
   "source": [
    "# Creating the tuple\n",
    "B = ('a', 'p', 'p', 'l', 'e')\n",
    "\n",
    "# Counting the occurrences of 'p'\n",
    "count_p = B.count('p')\n",
    "\n",
    "# Printing the count\n",
    "print(f\"The letter 'p' occurs {count_p} times in the tuple.\")"
   ]
  },
  {
   "cell_type": "markdown",
   "id": "622980d5",
   "metadata": {},
   "source": [
    "### 1.7.  Print the index of ‘l’ in the tuple. "
   ]
  },
  {
   "cell_type": "code",
   "execution_count": 8,
   "id": "6b38aa9b",
   "metadata": {},
   "outputs": [
    {
     "name": "stdout",
     "output_type": "stream",
     "text": [
      "The letter 'l' is at index 3 in the tuple.\n"
     ]
    }
   ],
   "source": [
    "# Printing the index of 'l' in the tuple\n",
    "index_l = B.index('l')\n",
    "\n",
    "# Printing the index\n",
    "print(f\"The letter 'l' is at index {index_l} in the tuple.\")"
   ]
  },
  {
   "cell_type": "markdown",
   "id": "52f903fd",
   "metadata": {},
   "source": [
    "### Task 2: \n",
    "Numpy Use built-in functions of numpy library to complete this task. List of functions available here (https://numpy.org/doc/1.19/genindex.html)  \n",
    "A = 1 2 3 4 \n",
    "    5 6 7 8 \n",
    "    9 10 11 12\n",
    " \n",
    "z = np.array([1, 0, 1])   \n",
    "\n",
    "### 2.1  Convert matrix A into numpy array"
   ]
  },
  {
   "cell_type": "code",
   "execution_count": 39,
   "id": "214accce",
   "metadata": {},
   "outputs": [
    {
     "name": "stdout",
     "output_type": "stream",
     "text": [
      "(3, 4)\n",
      "[[ 1  2  3  4]\n",
      " [ 5  6  7  8]\n",
      " [ 9 10 11 12]]\n"
     ]
    }
   ],
   "source": [
    "import numpy as np\n",
    "\n",
    "# Defining matrix A\n",
    "A = [[1, 2, 3, 4],\n",
    "     [5, 6, 7, 8],\n",
    "     [9, 10, 11, 12]]\n",
    "\n",
    "\n",
    "\n",
    "# Converting matrix A into a NumPy array\n",
    "A_array = np.array(A)\n",
    "# Printing shape for 2.3 solution\n",
    "print(A_array.shape)\n",
    "\n",
    "# Printing the NumPy array\n",
    "print(A_array)\n"
   ]
  },
  {
   "cell_type": "markdown",
   "id": "e137f224",
   "metadata": {},
   "source": [
    "### 2.2  Use slicing to pull out the subarray consisting of the first 2 rows and columns 1 and 2. Store it in b which is a numpy array of shape (2, 2)."
   ]
  },
  {
   "cell_type": "code",
   "execution_count": 26,
   "id": "71161bc4",
   "metadata": {},
   "outputs": [
    {
     "name": "stdout",
     "output_type": "stream",
     "text": [
      "[[1 2]\n",
      " [5 6]]\n",
      "Shape of numpy Array is: (2, 2)\n"
     ]
    }
   ],
   "source": [
    "# Slicing the first 2 rows and columns 1 and 2 from A_array\n",
    "b = A_array[:2, :2]\n",
    "\n",
    "# Printing the subarray b\n",
    "print(b)\n",
    "print(f'Shape of numpy Array is: {b.shape}')"
   ]
  },
  {
   "cell_type": "markdown",
   "id": "c81083ff",
   "metadata": {},
   "source": [
    "### 2.3  Create an empty matrix ‘C’ with the same shape as ‘A’."
   ]
  },
  {
   "cell_type": "code",
   "execution_count": 29,
   "id": "e5869609",
   "metadata": {},
   "outputs": [
    {
     "name": "stdout",
     "output_type": "stream",
     "text": [
      "(3, 4)\n"
     ]
    }
   ],
   "source": [
    "# Creating an empty matrix with shape 3x4\n",
    "c = np.empty((3, 4))\n",
    "\n",
    "print(c.shape)\n"
   ]
  },
  {
   "cell_type": "markdown",
   "id": "378e5eaf",
   "metadata": {},
   "source": [
    "### 2.4 Add the vector z to each column of the matrix ‘A’ with an explicit loop and store it in ‘C’.\n",
    "#### Create the following: X = np.array([[1,2],[3,4]]) Y = np.array([[5,6],[7,8]]) v = np.array([9,10]) "
   ]
  },
  {
   "cell_type": "code",
   "execution_count": 91,
   "id": "af548ff9",
   "metadata": {},
   "outputs": [
    {
     "name": "stdout",
     "output_type": "stream",
     "text": [
      "Matrix A:\n",
      " [[ 1  2  3  4]\n",
      " [ 5  6  7  8]\n",
      " [ 9 10 11 12]]\n",
      "\n",
      "Vector z: (3,)\n",
      "\n",
      "Resulting matrix C:\n",
      " [[ 2.  3.  4.  5.]\n",
      " [ 5.  6.  7.  8.]\n",
      " [10. 11. 12. 13.]]\n"
     ]
    }
   ],
   "source": [
    "z = np.array([1, 0, 1])\n",
    "\n",
    "# Adding vector z to each column of matrix A using an explicit loop\n",
    "for i in range(A_array.shape[1]):  # Loop over the columns\n",
    "    c[:, i] = A_array[:, i] + z  # Adding z to each column\n",
    "\n",
    "print(\"Matrix A:\\n\", A_array)\n",
    "print(\"\\nVector z:\", z.shape)\n",
    "print(\"\\nResulting matrix C:\\n\", c)"
   ]
  },
  {
   "cell_type": "code",
   "execution_count": 40,
   "id": "ab977fae",
   "metadata": {},
   "outputs": [],
   "source": [
    "# Defining the matrices and vector\n",
    "X = np.array([[1, 2], [3, 4]])\n",
    "Y = np.array([[5, 6], [7, 8]])\n",
    "v = np.array([9, 10])\n"
   ]
  },
  {
   "cell_type": "markdown",
   "id": "75f6ef3f",
   "metadata": {},
   "source": [
    "### 2.5  Add and print the matrices X and Y."
   ]
  },
  {
   "cell_type": "code",
   "execution_count": 49,
   "id": "5c33b208",
   "metadata": {},
   "outputs": [
    {
     "name": "stdout",
     "output_type": "stream",
     "text": [
      "Matrix X + Matrix Y: \n",
      "[[ 6  8]\n",
      " [10 12]]\n"
     ]
    }
   ],
   "source": [
    "# Adding and printing the matrices X and Y\n",
    "sum_X_Y = X + Y\n",
    "\n",
    "print(f\"Matrix X + Matrix Y: \\n{sum_X_Y}\")"
   ]
  },
  {
   "cell_type": "markdown",
   "id": "20b25dd3",
   "metadata": {},
   "source": [
    "### 2.6  Multiply and print the matrices X and Y. "
   ]
  },
  {
   "cell_type": "code",
   "execution_count": 50,
   "id": "dceddaca",
   "metadata": {},
   "outputs": [
    {
     "name": "stdout",
     "output_type": "stream",
     "text": [
      "Multiplication of Matrix X and Matrix Y: \n",
      "[[ 5 12]\n",
      " [21 32]]\n"
     ]
    }
   ],
   "source": [
    "# Multiplying and printing the matrices X and Y\n",
    "multiply_X_Y = X * Y\n",
    "print(f\"Multiplication of Matrix X and Matrix Y: \\n{multiply_X_Y}\")"
   ]
  },
  {
   "cell_type": "markdown",
   "id": "f5d1a431",
   "metadata": {},
   "source": [
    "### 2.7  Compute and print the element wise square root of matrix Y. "
   ]
  },
  {
   "cell_type": "code",
   "execution_count": 44,
   "id": "c922ff02",
   "metadata": {},
   "outputs": [
    {
     "name": "stdout",
     "output_type": "stream",
     "text": [
      "Element-wise square root of Matrix Y:\n",
      " [[2.23606798 2.44948974]\n",
      " [2.64575131 2.82842712]]\n"
     ]
    }
   ],
   "source": [
    "# Computing and printing the element-wise square root of matrix Y\n",
    "elementwise_sqrt = np.sqrt(Y)\n",
    "print(f\"Element-wise square root of Matrix Y:\\n {elementwise_sqrt}\")"
   ]
  },
  {
   "cell_type": "markdown",
   "id": "b574954e",
   "metadata": {},
   "source": [
    "### 2.8  Compute and print the dot product of the matrix X and vector v."
   ]
  },
  {
   "cell_type": "code",
   "execution_count": 46,
   "id": "911d7e88",
   "metadata": {},
   "outputs": [
    {
     "name": "stdout",
     "output_type": "stream",
     "text": [
      "Dot product of Matrix X and Vector v: \n",
      " [29 67]\n"
     ]
    }
   ],
   "source": [
    "# Computing and printing the dot product of the matrix X and vector v\n",
    "dot_product = np.dot(X, v)\n",
    "print(f\"Dot product of Matrix X and Vector v: \\n {dot_product}\")"
   ]
  },
  {
   "cell_type": "markdown",
   "id": "f03ca432",
   "metadata": {},
   "source": [
    "### 2.9  Compute and print the sum of each column of X."
   ]
  },
  {
   "cell_type": "code",
   "execution_count": 51,
   "id": "7e12b898",
   "metadata": {},
   "outputs": [
    {
     "name": "stdout",
     "output_type": "stream",
     "text": [
      "Sum of each column of Matrix X:\n",
      "[4 6] \n"
     ]
    }
   ],
   "source": [
    "# Computing and printing the sum of each column of X\n",
    "column_sum = np.sum(X, axis=0)\n",
    "print(f\"Sum of each column of Matrix X:\\n{column_sum} \")"
   ]
  },
  {
   "cell_type": "markdown",
   "id": "619f4e50",
   "metadata": {},
   "source": [
    "### Task 3: Functions and Loops 3.1  Create a function ‘Compute’ that takes two arguments, distance and time, and use it to calculate velocity. "
   ]
  },
  {
   "cell_type": "code",
   "execution_count": 52,
   "id": "3f31e47e",
   "metadata": {},
   "outputs": [
    {
     "name": "stdout",
     "output_type": "stream",
     "text": [
      "The velocity is 5.0 meters per second.\n"
     ]
    }
   ],
   "source": [
    "def Compute(distance, time):\n",
    "    # Calculating velocity\n",
    "    velocity = distance / time\n",
    "    return velocity\n",
    "\n",
    "# Examplifying\n",
    "distance = 100  # Example distance in meters\n",
    "time = 20       # Example time in seconds\n",
    "velocity = Compute(distance, time)\n",
    "\n",
    "# Print the result\n",
    "print(f\"The velocity is {velocity} meters per second.\")"
   ]
  },
  {
   "cell_type": "markdown",
   "id": "05423029",
   "metadata": {},
   "source": [
    "### 3.2 Make a list named ‘even_num’ that contains all even numbers up till 12. Create a function ‘mult’ that takes the list ‘even_num’  as an argument and calculates the products of all entries using a for loop."
   ]
  },
  {
   "cell_type": "code",
   "execution_count": 53,
   "id": "1f8b9ef5",
   "metadata": {
    "scrolled": true
   },
   "outputs": [
    {
     "name": "stdout",
     "output_type": "stream",
     "text": [
      "The product of all even numbers up till 12 is 46080.\n"
     ]
    }
   ],
   "source": [
    "# Creating the list of even numbers up till 12\n",
    "even_num = [2, 4, 6, 8, 10, 12]\n",
    "\n",
    "# Define the function to calculate the product of all entries in the list\n",
    "def mult(numbers):\n",
    "    product = 1\n",
    "    for number in numbers:\n",
    "        product *= number\n",
    "    return product\n",
    "\n",
    "# Calculating the product of the even_num list\n",
    "product_of_evens = mult(even_num)\n",
    "\n",
    "# Printing the result\n",
    "print(f\"The product of all even numbers up till 12 is {product_of_evens}.\")"
   ]
  },
  {
   "cell_type": "markdown",
   "id": "03af0305",
   "metadata": {},
   "source": [
    "### Task 4: Pandas Create a Pandas dataframe named ‘pd’ that contains 5 rows and 4 columns, similar to the one given below:"
   ]
  },
  {
   "cell_type": "code",
   "execution_count": null,
   "id": "bc8e0409",
   "metadata": {},
   "outputs": [],
   "source": [
    "# This is the table of question\n",
    "import pandas as pd\n",
    "\n",
    "data = {\n",
    "    'C1': [1, 2, 3, 5, 5],\n",
    "    'C2': [6, 7, 5, 4, 8],\n",
    "    'C3': [7, 9, 8, 6, 5],\n",
    "    'C4': [7, 5, 2, 8, 8]\n",
    "}\n",
    "\n",
    "\n",
    "df = pd.DataFrame(data)\n",
    "\n",
    "\n",
    "print(df)"
   ]
  },
  {
   "cell_type": "markdown",
   "id": "dcbebf18",
   "metadata": {},
   "source": [
    "### Solution:"
   ]
  },
  {
   "cell_type": "code",
   "execution_count": 59,
   "id": "a882d39a",
   "metadata": {},
   "outputs": [
    {
     "name": "stdout",
     "output_type": "stream",
     "text": [
      "   C1  C2  C3  C4\n",
      "0   1   6   7   7\n",
      "1   2   7   9   5\n",
      "2   3   5   8   2\n",
      "3   5   4   6   8\n",
      "4   5   8   5   8\n"
     ]
    }
   ],
   "source": [
    "# Defining data for the DataFrame\n",
    "data = {\n",
    "    'C1': [1, 2, 3, 5, 5],\n",
    "    'C2': [6, 7, 5, 4, 8],\n",
    "    'C3': [7, 9, 8, 6, 5],\n",
    "    'C4': [7, 5, 2, 8, 8]\n",
    "}\n",
    "\n",
    "# Creating the DataFrame\n",
    "df = pd.DataFrame(data)\n",
    "\n",
    "# Printing the DataFrame\n",
    "print(df)"
   ]
  },
  {
   "cell_type": "code",
   "execution_count": 116,
   "id": "6f7248cf",
   "metadata": {},
   "outputs": [
    {
     "name": "stdout",
     "output_type": "stream",
     "text": [
      "   C1  C2  C3  C4\n",
      "0   1   6   7   7\n",
      "1   2   7   9   5\n",
      "2   3   5   8   2\n",
      "3   5   4   6   8\n",
      "4   5   8   5   8\n"
     ]
    }
   ],
   "source": [
    "# Define the data for the DataFrame\n",
    "data = {\n",
    "    'C1': [1, 2, 3, 5, 5],\n",
    "    'C2': [6, 7, 5, 4, 8],\n",
    "    'C3': [7, 9, 8, 6, 5],\n",
    "    'C4': [7, 5, 2, 8, 8]\n",
    "}\n",
    "\n",
    "# Create the DataFrame\n",
    "df = pd.DataFrame(data)\n",
    "\n",
    "# Print the DataFrame\n",
    "print(df)"
   ]
  },
  {
   "cell_type": "markdown",
   "id": "461ed4f5",
   "metadata": {},
   "source": [
    "### 4.1  Print only the first two rows of the dataframe. "
   ]
  },
  {
   "cell_type": "code",
   "execution_count": 61,
   "id": "43e22a37",
   "metadata": {},
   "outputs": [
    {
     "name": "stdout",
     "output_type": "stream",
     "text": [
      "   C1  C2  C3  C4\n",
      "0   1   6   7   7\n",
      "1   2   7   9   5\n"
     ]
    }
   ],
   "source": [
    "# Printing the first two rows of the DataFrame\n",
    "print(df.head(2))"
   ]
  },
  {
   "cell_type": "markdown",
   "id": "0b61df33",
   "metadata": {},
   "source": [
    "### 4.2 Print the second column"
   ]
  },
  {
   "cell_type": "code",
   "execution_count": 62,
   "id": "253e84e0",
   "metadata": {},
   "outputs": [
    {
     "name": "stdout",
     "output_type": "stream",
     "text": [
      "0    6\n",
      "1    7\n",
      "2    5\n",
      "3    4\n",
      "4    8\n",
      "Name: C2, dtype: int64\n"
     ]
    }
   ],
   "source": [
    "# Printing the second column of the DataFrame\n",
    "print(df['C2'])"
   ]
  },
  {
   "cell_type": "markdown",
   "id": "53e01bff",
   "metadata": {},
   "source": [
    "### 4.3  Change the name of the third column from ‘C3’ to ‘B3’."
   ]
  },
  {
   "cell_type": "code",
   "execution_count": 63,
   "id": "aa2e1194",
   "metadata": {},
   "outputs": [
    {
     "name": "stdout",
     "output_type": "stream",
     "text": [
      "   C1  C2  B3  C4\n",
      "0   1   6   7   7\n",
      "1   2   7   9   5\n",
      "2   3   5   8   2\n",
      "3   5   4   6   8\n",
      "4   5   8   5   8\n"
     ]
    }
   ],
   "source": [
    "# Changing the third column name from 'C3' to 'B3'\n",
    "df = df.rename(columns={'C3': 'B3'})\n",
    "\n",
    "# Printing the updated DataFrame to confirm the change\n",
    "print(df)"
   ]
  },
  {
   "cell_type": "markdown",
   "id": "2d5c48a3",
   "metadata": {},
   "source": [
    "### 4.4  Add a new column to the dataframe and name it ‘Sum’. \n",
    "#### 4.5  Sum the entries of each row and add the result in the column ‘Sum’."
   ]
  },
  {
   "cell_type": "code",
   "execution_count": 120,
   "id": "a92e841b",
   "metadata": {},
   "outputs": [
    {
     "name": "stdout",
     "output_type": "stream",
     "text": [
      "   C1  C2  B3  C4  Sum\n",
      "0   1   6   7   7   21\n",
      "1   2   7   9   5   23\n",
      "2   3   5   8   2   18\n",
      "3   5   4   6   8   23\n",
      "4   5   8   5   8   26\n"
     ]
    }
   ],
   "source": [
    "# Adding a new column 'Sum' that contains the sum of values from existing columns\n",
    "df['Sum'] = df.sum(axis=1)\n",
    "\n",
    "# Printing the updated DataFrame to confirm the new column\n",
    "print(df)"
   ]
  },
  {
   "cell_type": "markdown",
   "id": "f0f41d3b",
   "metadata": {},
   "source": [
    "### 4.6 Read CSV file named ‘hello_sample.csv’ (the file is available in the class Google Drive shared folder) into a Pandas dataframe.\n",
    "#### 4.7  Print complete dataframe. "
   ]
  },
  {
   "cell_type": "code",
   "execution_count": 73,
   "id": "a330e759",
   "metadata": {},
   "outputs": [
    {
     "name": "stdout",
     "output_type": "stream",
     "text": [
      "    Gender  F_Color     B_Month  Weight\n",
      "0     Male    Black       March      77\n",
      "1     Male      Red       March      72\n",
      "2     Male    Black     October      53\n",
      "3   Female     Blue    February      63\n",
      "4     Male    black    October       80\n",
      "5   Female    Black    december      97\n",
      "6     Male   Orange      August      60\n",
      "7   Female      Red   September      59\n",
      "8     Male     Blue        July      60\n",
      "9     Male     Blue         May      58\n",
      "10  Female      Red    October       60\n",
      "11    Male    Black   September      65\n",
      "12    Male    Green    December      85\n",
      "13    Male    Black       April      72\n",
      "14    Male    Green    January       90\n",
      "15    Male   Yellow   November       90\n",
      "16    Male    Black      August      54\n",
      "17    Male    Black     January      82\n",
      "18    Male  Mustard   December       60\n",
      "19  Female    Black    October       76\n",
      "20    Male    Black   February       67\n",
      "21    Male   Yellow       April      74\n",
      "22    Male      Red  September       66\n"
     ]
    }
   ],
   "source": [
    "# Reading the CSV file into a DataFrame\n",
    "df2 = pd.read_csv('hello_sample.csv')\n",
    "\n",
    "# Printing complete DataFrame\n",
    "print(df2)"
   ]
  },
  {
   "cell_type": "markdown",
   "id": "6b90c4c5",
   "metadata": {},
   "source": [
    "### 4.8  Print only bottom 2 records of the dataframe. "
   ]
  },
  {
   "cell_type": "code",
   "execution_count": 74,
   "id": "a12d252a",
   "metadata": {},
   "outputs": [
    {
     "name": "stdout",
     "output_type": "stream",
     "text": [
      "   Gender F_Color     B_Month  Weight\n",
      "21   Male  Yellow       April      74\n",
      "22   Male     Red  September       66\n"
     ]
    }
   ],
   "source": [
    "# Printing the bottom 2 records of the DataFrame\n",
    "print(df2.tail(2))"
   ]
  },
  {
   "cell_type": "markdown",
   "id": "fbd8a5d5",
   "metadata": {},
   "source": [
    "### 4.9  Print information about the dataframe. "
   ]
  },
  {
   "cell_type": "code",
   "execution_count": 75,
   "id": "20d8d5e4",
   "metadata": {},
   "outputs": [
    {
     "name": "stdout",
     "output_type": "stream",
     "text": [
      "<class 'pandas.core.frame.DataFrame'>\n",
      "RangeIndex: 23 entries, 0 to 22\n",
      "Data columns (total 4 columns):\n",
      " #   Column   Non-Null Count  Dtype \n",
      "---  ------   --------------  ----- \n",
      " 0   Gender   23 non-null     object\n",
      " 1   F_Color  23 non-null     object\n",
      " 2   B_Month  23 non-null     object\n",
      " 3   Weight   23 non-null     int64 \n",
      "dtypes: int64(1), object(3)\n",
      "memory usage: 864.0+ bytes\n",
      "None\n"
     ]
    }
   ],
   "source": [
    "# Printing information about the DataFrame\n",
    "print(df2.info())"
   ]
  },
  {
   "cell_type": "markdown",
   "id": "531840a7",
   "metadata": {},
   "source": [
    "### 4.10  Print shape (rows x columns) of the dataframe. "
   ]
  },
  {
   "cell_type": "code",
   "execution_count": 76,
   "id": "7f5c996d",
   "metadata": {},
   "outputs": [
    {
     "name": "stdout",
     "output_type": "stream",
     "text": [
      "(23, 4)\n"
     ]
    }
   ],
   "source": [
    "# Printing the shape of the DataFrame\n",
    "print(df2.shape)"
   ]
  },
  {
   "cell_type": "code",
   "execution_count": 77,
   "id": "b04c36dd",
   "metadata": {},
   "outputs": [
    {
     "name": "stdout",
     "output_type": "stream",
     "text": [
      "Index(['Gender', 'F_Color', 'B_Month', 'Weight'], dtype='object')\n"
     ]
    }
   ],
   "source": [
    "print(df2.columns)"
   ]
  },
  {
   "cell_type": "markdown",
   "id": "a09eb504",
   "metadata": {},
   "source": [
    "### 4.11  Sort the data of the dataFrame using column ‘Weight’. "
   ]
  },
  {
   "cell_type": "code",
   "execution_count": 78,
   "id": "a109e020",
   "metadata": {},
   "outputs": [
    {
     "name": "stdout",
     "output_type": "stream",
     "text": [
      "    Gender  F_Color     B_Month  Weight\n",
      "2     Male    Black     October      53\n",
      "16    Male    Black      August      54\n",
      "9     Male     Blue         May      58\n",
      "7   Female      Red   September      59\n",
      "18    Male  Mustard   December       60\n",
      "10  Female      Red    October       60\n",
      "6     Male   Orange      August      60\n",
      "8     Male     Blue        July      60\n",
      "3   Female     Blue    February      63\n",
      "11    Male    Black   September      65\n",
      "22    Male      Red  September       66\n",
      "20    Male    Black   February       67\n",
      "13    Male    Black       April      72\n",
      "1     Male      Red       March      72\n",
      "21    Male   Yellow       April      74\n",
      "19  Female    Black    October       76\n",
      "0     Male    Black       March      77\n",
      "4     Male    black    October       80\n",
      "17    Male    Black     January      82\n",
      "12    Male    Green    December      85\n",
      "14    Male    Green    January       90\n",
      "15    Male   Yellow   November       90\n",
      "5   Female    Black    december      97\n"
     ]
    }
   ],
   "source": [
    "# Sort the DataFrame by the 'Weight' column\n",
    "df2_sorted = df2.sort_values(by='Weight')\n",
    "\n",
    "# Print the sorted DataFrame\n",
    "print(df2_sorted)"
   ]
  },
  {
   "cell_type": "markdown",
   "id": "f02ad668",
   "metadata": {},
   "source": [
    "### 4.12  Use isnull() and dropna() methods of the Pandas dataframe and see if they produce any changes. "
   ]
  },
  {
   "cell_type": "code",
   "execution_count": 80,
   "id": "7bbe818c",
   "metadata": {},
   "outputs": [
    {
     "name": "stdout",
     "output_type": "stream",
     "text": [
      "Missing values in the DataFrame2:\n",
      "    Gender  F_Color  B_Month  Weight\n",
      "0    False    False    False   False\n",
      "1    False    False    False   False\n",
      "2    False    False    False   False\n",
      "3    False    False    False   False\n",
      "4    False    False    False   False\n",
      "5    False    False    False   False\n",
      "6    False    False    False   False\n",
      "7    False    False    False   False\n",
      "8    False    False    False   False\n",
      "9    False    False    False   False\n",
      "10   False    False    False   False\n",
      "11   False    False    False   False\n",
      "12   False    False    False   False\n",
      "13   False    False    False   False\n",
      "14   False    False    False   False\n",
      "15   False    False    False   False\n",
      "16   False    False    False   False\n",
      "17   False    False    False   False\n",
      "18   False    False    False   False\n",
      "19   False    False    False   False\n",
      "20   False    False    False   False\n",
      "21   False    False    False   False\n",
      "22   False    False    False   False\n",
      "\n",
      "DataFrame after dropping missing values:\n",
      "    Gender  F_Color     B_Month  Weight\n",
      "0     Male    Black       March      77\n",
      "1     Male      Red       March      72\n",
      "2     Male    Black     October      53\n",
      "3   Female     Blue    February      63\n",
      "4     Male    black    October       80\n",
      "5   Female    Black    december      97\n",
      "6     Male   Orange      August      60\n",
      "7   Female      Red   September      59\n",
      "8     Male     Blue        July      60\n",
      "9     Male     Blue         May      58\n",
      "10  Female      Red    October       60\n",
      "11    Male    Black   September      65\n",
      "12    Male    Green    December      85\n",
      "13    Male    Black       April      72\n",
      "14    Male    Green    January       90\n",
      "15    Male   Yellow   November       90\n",
      "16    Male    Black      August      54\n",
      "17    Male    Black     January      82\n",
      "18    Male  Mustard   December       60\n",
      "19  Female    Black    October       76\n",
      "20    Male    Black   February       67\n",
      "21    Male   Yellow       April      74\n",
      "22    Male      Red  September       66\n",
      "\n",
      "No changes were made: No missing values were found.\n"
     ]
    }
   ],
   "source": [
    "# Checking for missing values\n",
    "missing_values = df2.isnull()\n",
    "\n",
    "# Printing the DataFrame2 showing missing values\n",
    "print(\"Missing values in the DataFrame2:\")\n",
    "print(missing_values)\n",
    "\n",
    "# Dropping rows with any missing values\n",
    "df2_dropped = df2.dropna()\n",
    "\n",
    "# Printing the DataFrame after dropping missing values\n",
    "print(\"\\nDataFrame after dropping missing values:\")\n",
    "print(df2_dropped)\n",
    "\n",
    "# Printing if any changes were made\n",
    "if df2.shape != df2_dropped.shape:\n",
    "    print(\"\\nChanges were made: Rows with missing values were removed.\")\n",
    "else:\n",
    "    print(\"\\nNo changes were made: No missing values were found.\")"
   ]
  },
  {
   "cell_type": "code",
   "execution_count": null,
   "id": "339345a4",
   "metadata": {},
   "outputs": [],
   "source": []
  }
 ],
 "metadata": {
  "kernelspec": {
   "display_name": "Python 3 (ipykernel)",
   "language": "python",
   "name": "python3"
  },
  "language_info": {
   "codemirror_mode": {
    "name": "ipython",
    "version": 3
   },
   "file_extension": ".py",
   "mimetype": "text/x-python",
   "name": "python",
   "nbconvert_exporter": "python",
   "pygments_lexer": "ipython3",
   "version": "3.9.12"
  }
 },
 "nbformat": 4,
 "nbformat_minor": 5
}
